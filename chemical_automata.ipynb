{
 "cells": [
  {
   "cell_type": "code",
   "execution_count": 2,
   "metadata": {},
   "outputs": [
    {
     "data": {
      "text/plain": [
       "[array([[ 0, -1,  0],\n",
       "        [-1,  4, -1],\n",
       "        [ 0, -1,  0]], dtype=int8),\n",
       " array([[ 0, -1,  0],\n",
       "        [-1,  4, -1],\n",
       "        [ 0, -1,  0]], dtype=int8),\n",
       " array([[ 0, -1,  0],\n",
       "        [-1,  4, -1],\n",
       "        [ 0, -1,  0]], dtype=int8),\n",
       " array([[ 0, -1,  0],\n",
       "        [-1,  4, -1],\n",
       "        [ 0, -1,  0]], dtype=int8),\n",
       " array([[ 0, -1,  0],\n",
       "        [-1,  4, -1],\n",
       "        [ 0, -1,  0]], dtype=int8)]"
      ]
     },
     "execution_count": 2,
     "metadata": {},
     "output_type": "execute_result"
    }
   ],
   "source": [
    "import numpy as np\n",
    "import numpy.typing as npt\n",
    "\n",
    "berserkium = {\n",
    "    \"name\": \"Berserkium\",\n",
    "    \"symbol\": \"B\",\n",
    "    \"color\": \"red\",\n",
    "    \"micro_state_rules\": {\n",
    "        0 : ,\n",
    "}\n",
    "\n",
    "\n",
    "class ChemicalAutomata:\n",
    "    def __init__(self, grid: npt.NDArray[np.int8]):\n",
    "        self.grid = grid\n",
    "\n",
    "    def run(self, generations: int):\n",
    "        for i in range(generations):\n",
    "            self.grid = self._update(self.grid)\n",
    "\n",
    "    def _update(self, grid: npt.NDArray[np.int8]) -> npt.NDArray[np.int8]:\n",
    "        # get indices of all non-zero elements\n",
    "        indices = np.argwhere(grid == 1)\n",
    "\n",
    "        # get the surrounding indices\n",
    "        surrounding_indices = np.array([[x + i, y + j] \n",
    "                                        for x, y in indices \n",
    "                                        for i in range(-1, 2) \n",
    "                                        for j in range(-1, 2) \n",
    "                                        if not (i == 0 and j == 0) ])\n",
    "\n",
    "        # remove the indices that are out of bounds\n",
    "        surrounding_indices = surrounding_indices[(surrounding_indices[:, 0] >= 0) \n",
    "                                                & (surrounding_indices[:, 0] < grid.shape[0])\n",
    "                                                & (surrounding_indices[:, 1] >= 0) \n",
    "                                                & (surrounding_indices[:, 1] < grid.shape[1])]\n",
    "\n",
    "        # get the unique surrounding indices\n",
    "        each_indices = np.unique(surrounding_indices, axis=0)\n",
    "\n",
    "        # set the surrounding indices to 1 if they have 3 neighbours\n",
    "        grid[indices[:, 0], indices[:, 1]] = [1 if np.sum(np.all(surrounding_indices == i, axis=1)) == 2 else 0\n",
    "                                            for i in np.unique(indices, axis=0)]\n",
    "        grid[each_indices[:, 0], each_indices[:, 1]] = [grid[i[0], i[1]] if np.sum(np.all(surrounding_indices == i, axis=1)) != 3 else 1 \n",
    "                                            for i in each_indices]\n",
    "\n",
    "        return grid\n",
    "\n"
   ]
  },
  {
   "cell_type": "code",
   "execution_count": 2,
   "metadata": {},
   "outputs": [
    {
     "ename": "NameError",
     "evalue": "name 'bit' is not defined",
     "output_type": "error",
     "traceback": [
      "\u001b[1;31m---------------------------------------------------------------------------\u001b[0m",
      "\u001b[1;31mNameError\u001b[0m                                 Traceback (most recent call last)",
      "Cell \u001b[1;32mIn[2], line 1\u001b[0m\n\u001b[1;32m----> 1\u001b[0m bit[\u001b[39m6\u001b[39m]\n",
      "\u001b[1;31mNameError\u001b[0m: name 'bit' is not defined"
     ]
    }
   ],
   "source": []
  },
  {
   "cell_type": "code",
   "execution_count": null,
   "metadata": {},
   "outputs": [],
   "source": []
  }
 ],
 "metadata": {
  "kernelspec": {
   "display_name": "base",
   "language": "python",
   "name": "python3"
  },
  "language_info": {
   "codemirror_mode": {
    "name": "ipython",
    "version": 3
   },
   "file_extension": ".py",
   "mimetype": "text/x-python",
   "name": "python",
   "nbconvert_exporter": "python",
   "pygments_lexer": "ipython3",
   "version": "3.10.8"
  },
  "orig_nbformat": 4,
  "vscode": {
   "interpreter": {
    "hash": "cd23cac2bafd8df99b725e5c828a2ba9396d5a3d74e893c278d391f6e19827a0"
   }
  }
 },
 "nbformat": 4,
 "nbformat_minor": 2
}
