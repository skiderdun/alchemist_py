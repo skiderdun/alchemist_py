{
 "cells": [
  {
   "cell_type": "code",
   "execution_count": 2,
   "metadata": {},
   "outputs": [
    {
     "data": {
      "text/plain": [
       "[array([[ 0, -1,  0],\n",
       "        [-1,  4, -1],\n",
       "        [ 0, -1,  0]], dtype=int8),\n",
       " array([[ 0, -1,  0],\n",
       "        [-1,  4, -1],\n",
       "        [ 0, -1,  0]], dtype=int8),\n",
       " array([[ 0, -1,  0],\n",
       "        [-1,  4, -1],\n",
       "        [ 0, -1,  0]], dtype=int8),\n",
       " array([[ 0, -1,  0],\n",
       "        [-1,  4, -1],\n",
       "        [ 0, -1,  0]], dtype=int8),\n",
       " array([[ 0, -1,  0],\n",
       "        [-1,  4, -1],\n",
       "        [ 0, -1,  0]], dtype=int8)]"
      ]
     },
     "execution_count": 2,
     "metadata": {},
     "output_type": "execute_result"
    }
   ],
   "source": [
    "import numpy as np\n",
    "c = np.array([[0, -1, 0], [-1, 4, -1], [0, -1, 0]], dtype=np.int8)\n",
    "carbon = {'C': c, 'mass' : 12, \"electronegativity\" : 2.55}\n",
    "h = np.array([[0, -1, 0], [0, 1, 0], [0, 0, 0]], dtype=np.int8)\n",
    "hydrogen = {'H': h, 'mass' : 1, \"electronegativity\" : 2.2}\n",
    "o = np.array([[0, -1, 0], [0, 6, -2], [0, -1, 0]], dtype=np.int8)\n",
    "oxygen = {'O': o, 'mass' : 16, \"electronegativity\" : 3.44}\n",
    "n = np.array([[0, -2, 0], [-1, 3, -1], [-1, 0, 0]], dtype=np.int8)\n",
    "nitrogen = {'N': n, 'mass' : 14, \"electronegativity\" : 3.04}\n",
    "s = np.array([[0, -2, 0], [-1, 8, 0], [-2, -1, 0]], dtype=np.int8)\n",
    "sulfur = {'S': s, 'mass' : 32, \"electronegativity\" : 2.58}\n",
    "p = np.array([[0, -2, 0], [-1, 8, -1], [0, -1, 0]], dtype=np.int8)\n",
    "phosphorus = {'P': p, 'mass' : 31, \"electronegativity\" : 2.19}\n",
    "f = np.array([[0, -1, 0], [0, 7, -1], [0, -1, 0]], dtype=np.int8)"
   ]
  },
  {
   "cell_type": "code",
   "execution_count": 2,
   "metadata": {},
   "outputs": [
    {
     "ename": "NameError",
     "evalue": "name 'bit' is not defined",
     "output_type": "error",
     "traceback": [
      "\u001b[1;31m---------------------------------------------------------------------------\u001b[0m",
      "\u001b[1;31mNameError\u001b[0m                                 Traceback (most recent call last)",
      "Cell \u001b[1;32mIn[2], line 1\u001b[0m\n\u001b[1;32m----> 1\u001b[0m bit[\u001b[39m6\u001b[39m]\n",
      "\u001b[1;31mNameError\u001b[0m: name 'bit' is not defined"
     ]
    }
   ],
   "source": []
  },
  {
   "cell_type": "code",
   "execution_count": null,
   "metadata": {},
   "outputs": [],
   "source": []
  }
 ],
 "metadata": {
  "kernelspec": {
   "display_name": "base",
   "language": "python",
   "name": "python3"
  },
  "language_info": {
   "codemirror_mode": {
    "name": "ipython",
    "version": 3
   },
   "file_extension": ".py",
   "mimetype": "text/x-python",
   "name": "python",
   "nbconvert_exporter": "python",
   "pygments_lexer": "ipython3",
   "version": "3.10.8"
  },
  "orig_nbformat": 4,
  "vscode": {
   "interpreter": {
    "hash": "cd23cac2bafd8df99b725e5c828a2ba9396d5a3d74e893c278d391f6e19827a0"
   }
  }
 },
 "nbformat": 4,
 "nbformat_minor": 2
}
