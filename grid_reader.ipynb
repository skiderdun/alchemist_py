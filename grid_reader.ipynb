{
 "cells": [
  {
   "cell_type": "code",
   "execution_count": 207,
   "metadata": {},
   "outputs": [
    {
     "name": "stdout",
     "output_type": "stream",
     "text": [
      "x = 13, y = 11, rule = B3/S23\n",
      "8bo2bo$12bo$8bo3bo$9b4o$2o2b3o$2o2b3o$2o2b3o$9b4o$8bo3bo$12bo$8bo2bo!\n",
      "\n"
     ]
    }
   ],
   "source": [
    "# create a grid from a string\n",
    "# input: string\n",
    "# $ = new line\n",
    "# ! = end of pattern\n",
    "# x = width\n",
    "# y = height\n",
    "# rule = rule\n",
    "# o = alive cel\n",
    "# b = dead cel\n",
    "\n",
    "# get a string from the clipboard\n",
    "\n",
    "import pyperclip\n",
    "import numpy as np\n",
    "\n",
    "\n",
    "def grid_reader():\n",
    "    string = pyperclip.paste()\n",
    "    string = string.split('\\r\\n')\n",
    "\n",
    "    params = string[0].split(', ')\n",
    "    params = {x : y for x, y in [param.split(' = ') for param in params]}\n",
    "    params['rule'] = params['rule'].split('/')\n",
    "    \n",
    "    grid = np.zeros((int(params['y']), int(params['x'])), dtype = int)\n",
    "\n",
    "    structure = string[1:-1]\n",
    "    structure = structure[0][:-1]\n",
    "    structure = structure.split('$')\n",
    "\n",
    "    for i in range(len(structure)):\n",
    "        n = 0\n",
    "        for j in range(len(structure[i])):\n",
    "            if structure[i][j].isdigit():\n",
    "                n += int(structure[i][j])\n",
    "            elif structure[i][j] == 'o':\n",
    "                grid[i,j :: j + n] = 1\n",
    "                n = 0\n",
    "            elif structure[i][j] == 'b':\n",
    "                grid[i, j :: j + n] = 0\n",
    "                n = 0\n",
    "            \n",
    "    return grid\n",
    "\n",
    "paspaste = pyperclip.paste()\n",
    "print(paspaste)\n"
   ]
  },
  {
   "cell_type": "code",
   "execution_count": 208,
   "metadata": {},
   "outputs": [
    {
     "data": {
      "text/plain": [
       "array([[0, 0, 1, 0, 0, 1, 1, 0, 1, 0, 1, 0, 1],\n",
       "       [0, 0, 0, 1, 0, 0, 1, 0, 0, 1, 0, 0, 1],\n",
       "       [0, 0, 1, 0, 0, 1, 1, 0, 1, 0, 1, 0, 1],\n",
       "       [0, 0, 0, 1, 0, 0, 0, 0, 0, 0, 1, 0, 0],\n",
       "       [0, 1, 0, 0, 1, 1, 0, 1, 0, 0, 1, 0, 0],\n",
       "       [0, 1, 0, 0, 1, 1, 0, 1, 0, 0, 1, 0, 0],\n",
       "       [0, 1, 0, 0, 1, 1, 0, 1, 0, 0, 1, 0, 0],\n",
       "       [0, 0, 0, 1, 0, 0, 0, 0, 0, 0, 1, 0, 0],\n",
       "       [0, 0, 1, 0, 0, 1, 1, 0, 1, 0, 1, 0, 1],\n",
       "       [0, 0, 0, 1, 0, 0, 1, 0, 0, 1, 0, 0, 1],\n",
       "       [0, 0, 1, 0, 0, 1, 1, 0, 1, 0, 1, 0, 1]])"
      ]
     },
     "execution_count": 208,
     "metadata": {},
     "output_type": "execute_result"
    }
   ],
   "source": [
    "grid_reader()\n",
    "\n"
   ]
  },
  {
   "cell_type": "code",
   "execution_count": null,
   "metadata": {},
   "outputs": [],
   "source": []
  }
 ],
 "metadata": {
  "kernelspec": {
   "display_name": "base",
   "language": "python",
   "name": "python3"
  },
  "language_info": {
   "codemirror_mode": {
    "name": "ipython",
    "version": 3
   },
   "file_extension": ".py",
   "mimetype": "text/x-python",
   "name": "python",
   "nbconvert_exporter": "python",
   "pygments_lexer": "ipython3",
   "version": "3.10.8"
  },
  "orig_nbformat": 4,
  "vscode": {
   "interpreter": {
    "hash": "cd23cac2bafd8df99b725e5c828a2ba9396d5a3d74e893c278d391f6e19827a0"
   }
  }
 },
 "nbformat": 4,
 "nbformat_minor": 2
}
