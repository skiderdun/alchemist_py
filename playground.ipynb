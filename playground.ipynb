{
 "cells": [
  {
   "cell_type": "code",
   "execution_count": 3,
   "metadata": {},
   "outputs": [],
   "source": [
    "import numpy as np\n",
    "import cProfile\n",
    "import numpy.typing as npt\n",
    "\n",
    "def gosper_glider_gun():\n",
    "    grid = np.zeros((50, 50), dtype=np.int8)\n",
    "    grid[5, 1] = 1\n",
    "    grid[5, 2] = 1\n",
    "    grid[6, 1] = 1\n",
    "    grid[6, 2] = 1\n",
    "\n",
    "    grid[5, 11] = 1\n",
    "    grid[5, 12] = 1\n",
    "    grid[6, 11] = 1\n",
    "    grid[6, 12] = 1\n",
    "    grid[7, 11] = 1\n",
    "    grid[7, 12] = 1\n",
    "\n",
    "    grid[4, 13] = 1\n",
    "    grid[3, 14] = 1\n",
    "    grid[3, 15] = 1\n",
    "    grid[2, 15] = 1\n",
    "    grid[2, 14] = 1\n",
    "    grid[1, 14] = 1\n",
    "\n",
    "    grid[4, 17] = 1\n",
    "    grid[3, 17] = 1\n",
    "    grid[2, 17] = 1\n",
    "    grid[4, 18] = 1\n",
    "    grid[3, 18] = 1\n",
    "    grid[2, 18] = 1\n",
    "    grid[1, 18] = 1\n",
    "    grid[5, 19] = 1\n",
    "    grid[1, 19] = 1\n",
    "\n",
    "    grid[6, 21] = 1\n",
    "    grid[5, 21] = 1\n",
    "    grid[4, 21] = 1\n",
    "    grid[6, 22] = 1\n",
    "    grid[5, 22] = 1\n",
    "    grid[4, 22] = 1\n",
    "    grid[3, 22] = 1\n",
    "    grid[2, 22] = 1\n",
    "    grid[3, 23] = 1\n",
    "    grid[2, 23] = 1\n",
    "\n",
    "    grid[7, 25] = 1\n",
    "    grid[6, 25] = 1\n",
    "    grid[5, 25] = 1\n",
    "    grid[7, 26] = 1\n",
    "    grid[6, 26] = 1\n",
    "    grid[5, 26] = 1\n",
    "\n",
    "    return grid\n",
    "\n",
    "\n",
    "# put the grid in a torus\n",
    "def torus(grid) -> np.ndarray:\n",
    "    grid: np.ndarray = np.pad(grid, 1, 'wrap')\n",
    "    return grid\n",
    "\n",
    "\n",
    "\n",
    "# pack the grid into an array of single bits\n",
    "def pack(grid):\n",
    "    grid = grid.flatten()\n",
    "    grid = np.packbits(grid)\n",
    "    return grid"
   ]
  },
  {
   "cell_type": "code",
   "execution_count": 4,
   "metadata": {},
   "outputs": [
    {
     "data": {
      "text/plain": [
       "array([[0, 0, 0, ..., 0, 0, 0],\n",
       "       [0, 0, 0, ..., 0, 0, 0],\n",
       "       [0, 0, 0, ..., 0, 0, 0],\n",
       "       ...,\n",
       "       [0, 0, 0, ..., 0, 0, 0],\n",
       "       [0, 0, 0, ..., 0, 0, 0],\n",
       "       [0, 0, 0, ..., 0, 0, 0]], dtype=int8)"
      ]
     },
     "execution_count": 4,
     "metadata": {},
     "output_type": "execute_result"
    }
   ],
   "source": [
    "import alchemy as alch\n",
    "\n"
   ]
  },
  {
   "cell_type": "code",
   "execution_count": 13,
   "metadata": {},
   "outputs": [
    {
     "name": "stdout",
     "output_type": "stream",
     "text": [
      "         15656154 function calls (15650154 primitive calls) in 79.932 seconds\n",
      "\n",
      "   Ordered by: standard name\n",
      "\n",
      "   ncalls  tottime  percall  cumtime  percall filename:lineno(function)\n",
      "   913832    0.982    0.000   41.057    0.000 <__array_function__ internals>:177(all)\n",
      "     1000    0.002    0.000    2.983    0.003 <__array_function__ internals>:177(argwhere)\n",
      "     2000    0.003    0.000    0.049    0.000 <__array_function__ internals>:177(moveaxis)\n",
      "     1000    0.001    0.000    0.004    0.000 <__array_function__ internals>:177(ndim)\n",
      "     1000    0.001    0.000    2.942    0.003 <__array_function__ internals>:177(nonzero)\n",
      "     1000    0.002    0.000    0.027    0.000 <__array_function__ internals>:177(prod)\n",
      "   914832    0.599    0.000   10.396    0.000 <__array_function__ internals>:177(sum)\n",
      "     1000    0.002    0.000    0.027    0.000 <__array_function__ internals>:177(transpose)\n",
      "     1000    0.003    0.000    1.337    0.001 <__array_function__ internals>:177(unique)\n",
      "        1    0.000    0.000   79.932   79.932 <string>:1(<module>)\n",
      "     1000    0.011    0.000    0.014    0.000 _internal.py:436(_promote_fields)\n",
      "     2000    0.003    0.000    0.003    0.000 _internal.py:523(_view_is_safe)\n",
      "        1    0.007    0.007   79.932   79.932 alchemy.py:78(run)\n",
      "     1000   22.463    0.022   79.925    0.080 alchemy.py:82(_update)\n",
      "     1000    1.202    0.001    1.202    0.001 alchemy.py:91(<listcomp>)\n",
      "     1000    0.001    0.000    0.001    0.000 arraysetops.py:125(_unpack_tuple)\n",
      "     1000    0.000    0.000    0.000    0.000 arraysetops.py:133(_unique_dispatcher)\n",
      "     1000    0.017    0.000    1.331    0.001 arraysetops.py:138(unique)\n",
      "     1000    0.002    0.000    0.005    0.000 arraysetops.py:289(<listcomp>)\n",
      "     1000    0.004    0.000    0.029    0.000 arraysetops.py:310(reshape_uniq)\n",
      "     1000    0.050    0.000    1.214    0.001 arraysetops.py:323(_unique1d)\n",
      "        6    0.000    0.000    0.000    0.000 cycler.py:239(__iter__)\n",
      "     1000    0.000    0.000    0.000    0.000 fromnumeric.py:1862(_nonzero_dispatcher)\n",
      "     1000    0.002    0.000    2.939    0.003 fromnumeric.py:1866(nonzero)\n",
      "   914832    0.143    0.000    0.143    0.000 fromnumeric.py:2157(_sum_dispatcher)\n",
      "   914832    1.185    0.000    9.170    0.000 fromnumeric.py:2162(sum)\n",
      "   913832    0.162    0.000    0.162    0.000 fromnumeric.py:2401(_all_dispatcher)\n",
      "   913832    0.972    0.000   39.306    0.000 fromnumeric.py:2406(all)\n",
      "     1000    0.000    0.000    0.000    0.000 fromnumeric.py:2922(_prod_dispatcher)\n",
      "     1000    0.003    0.000    0.024    0.000 fromnumeric.py:2927(prod)\n",
      "     1000    0.000    0.000    0.000    0.000 fromnumeric.py:3117(_ndim_dispatcher)\n",
      "     1000    0.001    0.000    0.001    0.000 fromnumeric.py:3121(ndim)\n",
      "     1000    0.010    0.000    0.020    0.000 fromnumeric.py:38(_wrapit)\n",
      "     2000    0.005    0.000    2.960    0.001 fromnumeric.py:51(_wrapfunc)\n",
      "     1000    0.000    0.000    0.000    0.000 fromnumeric.py:597(_transpose_dispatcher)\n",
      "     1000    0.001    0.000    0.024    0.000 fromnumeric.py:601(transpose)\n",
      "  1829664    2.693    0.000   46.077    0.000 fromnumeric.py:69(_wrapreduction)\n",
      "  1829664    0.787    0.000    0.787    0.000 fromnumeric.py:70(<dictcomp>)\n",
      "     4000    0.015    0.000    0.021    0.000 numeric.py:1347(normalize_axis_tuple)\n",
      "     4000    0.002    0.000    0.004    0.000 numeric.py:1397(<listcomp>)\n",
      "     2000    0.000    0.000    0.000    0.000 numeric.py:1406(_moveaxis_dispatcher)\n",
      "     2000    0.014    0.000    0.043    0.000 numeric.py:1410(moveaxis)\n",
      "     2000    0.001    0.000    0.001    0.000 numeric.py:1472(<listcomp>)\n",
      "     1000    0.000    0.000    0.000    0.000 numeric.py:573(_argwhere_dispatcher)\n",
      "     1000    0.006    0.000    2.979    0.003 numeric.py:577(argwhere)\n",
      "     4000    0.001    0.000    0.001    0.000 {built-in method _operator.index}\n",
      "        1    0.000    0.000   79.932   79.932 {built-in method builtins.exec}\n",
      "     4000    0.005    0.000    0.005    0.000 {built-in method builtins.getattr}\n",
      "   914832    0.263    0.000    0.263    0.000 {built-in method builtins.isinstance}\n",
      "    16000    0.002    0.000    0.002    0.000 {built-in method builtins.len}\n",
      "     2000    0.004    0.000    0.004    0.000 {built-in method builtins.sorted}\n",
      "     1000    0.486    0.000    0.486    0.000 {built-in method numpy.array}\n",
      "     2000    0.001    0.000    0.001    0.000 {built-in method numpy.asanyarray}\n",
      "     1000    0.008    0.000    0.008    0.000 {built-in method numpy.asarray}\n",
      "     1000    0.000    0.000    0.000    0.000 {built-in method numpy.ascontiguousarray}\n",
      "1836664/1830664    1.101    0.000   53.880    0.000 {built-in method numpy.core._multiarray_umath.implement_array_function}\n",
      "     4000    0.002    0.000    0.002    0.000 {built-in method numpy.core._multiarray_umath.normalize_axis_index}\n",
      "     1000    0.002    0.000    0.002    0.000 {built-in method numpy.empty}\n",
      "     2000    0.002    0.000    0.002    0.000 {built-in method numpy.promote_types}\n",
      "     2000    0.000    0.000    0.000    0.000 {method 'append' of 'list' objects}\n",
      "        1    0.000    0.000    0.000    0.000 {method 'disable' of '_lsprof.Profiler' objects}\n",
      "     1000    0.016    0.000    0.016    0.000 {method 'flatten' of 'numpy.ndarray' objects}\n",
      "     2000    0.003    0.000    0.003    0.000 {method 'format' of 'str' objects}\n",
      "     2000    0.001    0.000    0.001    0.000 {method 'insert' of 'list' objects}\n",
      "  1829664    0.268    0.000    0.268    0.000 {method 'items' of 'dict' objects}\n",
      "     1000    2.934    0.003    2.934    0.003 {method 'nonzero' of 'numpy.ndarray' objects}\n",
      "  1829664   42.326    0.000   42.326    0.000 {method 'reduce' of 'numpy.ufunc' objects}\n",
      "     2000    0.002    0.000    0.002    0.000 {method 'reshape' of 'numpy.ndarray' objects}\n",
      "     1000    1.131    0.001    1.131    0.001 {method 'sort' of 'numpy.ndarray' objects}\n",
      "     3000    0.002    0.000    0.002    0.000 {method 'transpose' of 'numpy.ndarray' objects}\n",
      "     2000    0.008    0.000    0.011    0.000 {method 'view' of 'numpy.ndarray' objects}\n",
      "\n",
      "\n"
     ]
    },
    {
     "data": {
      "image/png": "[encoded data removed]",
      "text/plain": [
       "<Figure size 640x480 with 1 Axes>"
      ]
     },
     "metadata": {},
     "output_type": "display_data"
    }
   ],
   "source": [
    "\n",
    "grid = np.zeros((1000, 1000), dtype=np.int8)\n",
    "ggg = alch.Cell(gosper_glider_gun())\n",
    "grid = torus(grid)\n",
    "ggg.apply(grid, 0, 0)\n",
    "biome = alch.Biome(grid)\n",
    "cProfile.run('biome.run(1000)')\n",
    "import matplotlib.pyplot as plt\n",
    "plt.imshow(biome.grid[:50, :50])\n",
    "plt.show()\n"
   ]
  },
  {
   "cell_type": "code",
   "execution_count": 24,
   "metadata": {},
   "outputs": [
    {
     "data": {
      "image/png": "[encoded data removed]",
      "text/plain": [
       "<Figure size 640x480 with 1 Axes>"
      ]
     },
     "metadata": {},
     "output_type": "display_data"
    }
   ],
   "source": [
    "\n"
   ]
  },
  {
   "cell_type": "code",
   "execution_count": null,
   "metadata": {},
   "outputs": [],
   "source": []
  }
 ],
 "metadata": {
  "kernelspec": {
   "display_name": "base",
   "language": "python",
   "name": "python3"
  },
  "language_info": {
   "codemirror_mode": {
    "name": "ipython",
    "version": 3
   },
   "file_extension": ".py",
   "mimetype": "text/x-python",
   "name": "python",
   "nbconvert_exporter": "python",
   "pygments_lexer": "ipython3",
   "version": "3.10.8"
  },
  "orig_nbformat": 4,
  "vscode": {
   "interpreter": {
    "hash": "8565891b0d3dc5f92c3ac1d0a994ae7f0aa4b3d294520402a1e39aee861ba01a"
   }
  }
 },
 "nbformat": 4,
 "nbformat_minor": 2
}
