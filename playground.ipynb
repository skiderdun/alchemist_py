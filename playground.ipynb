{
 "cells": [
  {
   "cell_type": "code",
   "execution_count": 2,
   "metadata": {},
   "outputs": [
    {
     "name": "stdout",
     "output_type": "stream",
     "text": [
      "         19312 function calls in 0.060 seconds\n",
      "\n",
      "   Ordered by: standard name\n",
      "\n",
      "   ncalls  tottime  percall  cumtime  percall filename:lineno(function)\n",
      "     9604    0.020    0.000    0.053    0.000 2022183089.py:23(check_neighbors)\n",
      "        1    0.000    0.000    0.060    0.060 2022183089.py:29(apply_rules)\n",
      "        1    0.000    0.000    0.059    0.059 2022183089.py:31(<listcomp>)\n",
      "       98    0.006    0.000    0.059    0.001 2022183089.py:32(<listcomp>)\n",
      "        1    0.000    0.000    0.060    0.060 <string>:1(<module>)\n",
      "        1    0.000    0.000    0.060    0.060 {built-in method builtins.exec}\n",
      "     9604    0.032    0.000    0.032    0.000 {built-in method builtins.sum}\n",
      "        1    0.001    0.001    0.001    0.001 {built-in method numpy.array}\n",
      "        1    0.000    0.000    0.000    0.000 {method 'disable' of '_lsprof.Profiler' objects}\n",
      "\n",
      "\n"
     ]
    }
   ],
   "source": [
    "import numpy as np\n",
    "import numpy.typing as npt\n",
    "import cProfile\n",
    "\n",
    "# create a seed\n",
    "seed = np.array([[0, 0, 0, 0, 0, 0, 0, 0, 0, 0],\n",
    "                [0, 0, 0, 0, 0, 0, 0, 0, 0, 0],\n",
    "                [0, 0, 0, 0, 0, 0, 0, 0, 0, 0],\n",
    "                [0, 0, 0, 1, 1, 1, 0, 0, 0, 0],\n",
    "                [0, 0, 0, 0, 0, 1, 0, 0, 0, 0],\n",
    "                [0, 0, 0, 0, 1, 0, 0, 0, 0, 0],\n",
    "                [0, 0, 0, 0, 0, 0, 0, 0, 0, 0],\n",
    "                [0, 0, 0, 0, 0, 0, 0, 0, 0, 0],\n",
    "                [0, 0, 0, 0, 0, 0, 0, 0, 0, 0],\n",
    "                [0, 0, 0, 0, 0, 0, 0, 0, 0, 0]], dtype=np.int8)\n",
    "\n",
    "# create a biome\n",
    "biome = np.zeros((100, 100), dtype=np.int8)\n",
    "biome[0:10, 0:10] = seed\n",
    "buffer = np.zeros((100, 100), dtype=np.int8)\n",
    "\n",
    "# create a function to check the neighbors of a cell via list comprehension\n",
    "def check_neighbors(grid: npt.NDArray[np.int8], x: int, y: int) -> int:\n",
    "    return sum([grid[x-1, y-1], grid[x, y-1], grid[x+1, y-1],\n",
    "                grid[x-1, y], grid[x+1, y],\n",
    "                grid[x-1, y+1], grid[x, y+1], grid[x+1, y+1]])\n",
    "\n",
    "# create function to apply the rules via list comprehension\n",
    "def apply_rules(grid: npt.NDArray[np.int8]) -> npt.NDArray[np.int8]:\n",
    "    return np.array(\n",
    "        [\n",
    "        [\n",
    "        1 if check_neighbors(grid, x, y)\n",
    "        in [2, 3] else 0\n",
    "        for x in range(1, grid.shape[0]-1)\n",
    "        ]\n",
    "        for y in range(1, grid.shape[1]-1)\n",
    "        ]\n",
    "    )\n",
    "\n",
    "\n",
    "# check the performance of the function\n",
    "cProfile.run('apply_rules(biome)')\n",
    "\n"
   ]
  },
  {
   "cell_type": "code",
   "execution_count": 17,
   "metadata": {},
   "outputs": [
    {
     "data": {
      "text/plain": [
       "array([[3, 3],\n",
       "       [3, 4],\n",
       "       [3, 5],\n",
       "       [4, 5],\n",
       "       [5, 4]], dtype=int64)"
      ]
     },
     "execution_count": 17,
     "metadata": {},
     "output_type": "execute_result"
    }
   ],
   "source": [
    "\n",
    "# function to get cells that are alive\n",
    "def get_alive_cells(grid: npt.NDArray[np.int8]) -> npt.NDArray[np.int8]:\n",
    "    \"\"\"_summary_\n",
    "\n",
    "    Creates a list of cells that are alive.\n",
    "\n",
    "    Args:\n",
    "        grid (npt.NDArray[np.int8]): _description_\n",
    "\n",
    "    Returns:\n",
    "        npt.NDArray[np.int8]: _description_\n",
    "    \"\"\"\n",
    "    return np.array(np.where(grid == 1)).T\n",
    "\n",
    "\n",
    "get_alive_cells(biome)\n"
   ]
  },
  {
   "cell_type": "code",
   "execution_count": 26,
   "metadata": {},
   "outputs": [
    {
     "data": {
      "text/plain": [
       "()"
      ]
     },
     "execution_count": 26,
     "metadata": {},
     "output_type": "execute_result"
    }
   ],
   "source": [
    "get_alive_cells(biome)\n",
    "\n",
    "\n"
   ]
  },
  {
   "cell_type": "code",
   "execution_count": null,
   "metadata": {},
   "outputs": [],
   "source": []
  }
 ],
 "metadata": {
  "kernelspec": {
   "display_name": "base",
   "language": "python",
   "name": "python3"
  },
  "language_info": {
   "codemirror_mode": {
    "name": "ipython",
    "version": 3
   },
   "file_extension": ".py",
   "mimetype": "text/x-python",
   "name": "python",
   "nbconvert_exporter": "python",
   "pygments_lexer": "ipython3",
   "version": "3.10.8"
  },
  "orig_nbformat": 4,
  "vscode": {
   "interpreter": {
    "hash": "cd23cac2bafd8df99b725e5c828a2ba9396d5a3d74e893c278d391f6e19827a0"
   }
  }
 },
 "nbformat": 4,
 "nbformat_minor": 2
}
