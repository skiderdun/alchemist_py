{
 "cells": [
  {
   "cell_type": "code",
   "execution_count": 13,
   "metadata": {},
   "outputs": [],
   "source": [
    "import numpy as np\n",
    "import numpy.typing as npt\n",
    "\n",
    "#function that factors a number\n",
    "def factor(number: int) -> list:\n",
    "    '''Function that factors a number.\n",
    "    requires:\n",
    "        number: int\n",
    "            The number to factor.\n",
    "    returns:\n",
    "        list\n",
    "            A list of factors.\n",
    "    '''\n",
    "    factors = []\n",
    "    for i in range(1, number+1):\n",
    "        if number % i == 0:\n",
    "            factors.append(i)\n",
    "    return factors\n",
    "# function that generates a list of numbers that have a certain number of factors\n",
    "def factors(number: int) -> list:\n",
    "    '''Function that generates a list of numbers that have a certain number of factors.\n",
    "    requires:\n",
    "        number: int\n",
    "            The number of factors.\n",
    "    returns:\n",
    "        list\n",
    "            A list of numbers.\n",
    "    '''\n",
    "    numbers = []\n",
    "    for i in range(1, 1000):\n",
    "        if len(factor(i)) == number:\n",
    "            numbers.append(i)\n",
    "    return numbers\n",
    "# function that convolutionalizes two arrays\n",
    "def convolve(array1: npt.ArrayLike, array2: npt.ArrayLike) -> npt.ArrayLike:\n",
    "    '''Function that convolutionalizes two arrays.\n",
    "    requires:\n",
    "        array1: numpy.ndarray\n",
    "            The first array.\n",
    "        array2: numpy.ndarray\n",
    "            The second array.\n",
    "    returns:\n",
    "        numpy.ndarray\n",
    "            The convolutionalized array.\n",
    "    '''\n",
    "    # make sure the arrays are the same size\n",
    "    if array1.shape != array2.shape:\n",
    "        raise ValueError('The arrays must be the same size.')\n",
    "    # create the new array\n",
    "    new_array = np.zeros(array1.shape, dtype=np.uint8)\n",
    "    # convolve the arrays\n",
    "    for x in range(array1.shape[0]):\n",
    "        for y in range(array1.shape[1]):\n",
    "            new_array[x,y] = array1[x,y] * array2[x,y]\n",
    "    return new_array"
   ]
  },
  {
   "cell_type": "code",
   "execution_count": 6,
   "metadata": {},
   "outputs": [
    {
     "data": {
      "text/plain": [
       "[1, 2, 4, 61, 122, 244]"
      ]
     },
     "execution_count": 6,
     "metadata": {},
     "output_type": "execute_result"
    }
   ],
   "source": []
  },
  {
   "cell_type": "code",
   "execution_count": 18,
   "metadata": {},
   "outputs": [
    {
     "data": {
      "text/plain": [
       "[16, 81, 625]"
      ]
     },
     "execution_count": 18,
     "metadata": {},
     "output_type": "execute_result"
    }
   ],
   "source": []
  },
  {
   "cell_type": "code",
   "execution_count": null,
   "metadata": {},
   "outputs": [],
   "source": []
  }
 ],
 "metadata": {
  "kernelspec": {
   "display_name": "base",
   "language": "python",
   "name": "python3"
  },
  "language_info": {
   "codemirror_mode": {
    "name": "ipython",
    "version": 3
   },
   "file_extension": ".py",
   "mimetype": "text/x-python",
   "name": "python",
   "nbconvert_exporter": "python",
   "pygments_lexer": "ipython3",
   "version": "3.10.8"
  },
  "orig_nbformat": 4,
  "vscode": {
   "interpreter": {
    "hash": "cd23cac2bafd8df99b725e5c828a2ba9396d5a3d74e893c278d391f6e19827a0"
   }
  }
 },
 "nbformat": 4,
 "nbformat_minor": 2
}
