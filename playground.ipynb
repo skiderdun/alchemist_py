{
 "cells": [
  {
   "cell_type": "code",
   "execution_count": 37,
   "metadata": {},
   "outputs": [],
   "source": [
    "import numpy as np\n",
    "import numpy.typing as npt\n",
    "import cProfile\n",
    "\n",
    "# create a seed\n",
    "seed = np.array([[0, 0, 0, 0, 0, 0, 0, 0, 0, 0],\n",
    "                [0, 0, 0, 0, 0, 0, 0, 0, 0, 0],\n",
    "                [0, 0, 0, 0, 0, 0, 0, 0, 0, 0],\n",
    "                [0, 0, 0, 1, 1, 1, 0, 0, 0, 0],\n",
    "                [0, 0, 0, 0, 0, 1, 0, 0, 0, 0],\n",
    "                [0, 0, 0, 0, 1, 0, 0, 0, 0, 0],\n",
    "                [0, 0, 0, 0, 0, 0, 0, 0, 0, 0],\n",
    "                [0, 0, 0, 0, 0, 0, 0, 0, 0, 0],\n",
    "                [0, 0, 0, 0, 0, 0, 0, 0, 0, 0],\n",
    "                [0, 0, 0, 0, 0, 0, 0, 0, 0, 0]], dtype=np.int8)\n",
    "\n",
    "# create a biome\n",
    "biome = np.zeros((100, 100), dtype=np.int8)\n",
    "biome[0:10, 0:10] = seed\n",
    "\n",
    "class Biome():\n",
    "    def __init__(self, grid: npt.NDArray[np.int8]):\n",
    "        self.grid = grid\n",
    "\n",
    "    def sense_quarum(self, x: int, y: int) -> int:\n",
    "        return sum([self.grid[x-1, y-1], self.grid[x, y-1], self.grid[x+1, y-1],\n",
    "                    self.grid[x-1, y], self.grid[x+1, y],\n",
    "                    self.grid[x-1, y+1], self.grid[x, y+1], self.grid[x+1, y+1]])\n",
    "\n",
    "    def get_alive_cells(self) -> npt.NDArray[np.int8]:\n",
    "        return np.array(np.where(self.grid == 1)).T\n",
    "\n",
    "    def get_neighbor_indices(self) -> npt.NDArray[np.int8]:\n",
    "        alive_cells = self.get_alive_cells()\n",
    "        neighbor_indices = np.array(\n",
    "            [\n",
    "            [alive_cells[:, 0]-1, alive_cells[:, 1]-1],\n",
    "            [alive_cells[:, 0], alive_cells[:, 1]-1],\n",
    "            [alive_cells[:, 0]+1, alive_cells[:, 1]-1],\n",
    "            [alive_cells[:, 0]-1, alive_cells[:, 1]],\n",
    "            [alive_cells[:, 0]+1, alive_cells[:, 1]],\n",
    "            [alive_cells[:, 0]-1, alive_cells[:, 1]+1],\n",
    "            [alive_cells[:, 0], alive_cells[:, 1]+1],\n",
    "            [alive_cells[:, 0]+1, alive_cells[:, 1]+1]\n",
    "            ]\n",
    "        ).T\n",
    "        return neighbor_indices\n",
    "\n",
    "    def apply_rules(self) -> npt.NDArray[np.int8]:\n",
    "        neighbor_indices = self.get_neighbor_indices()\n",
    "        neighbor_indices = neighbor_indices.reshape(-1, 2)\n",
    "        neighbor_indices = np.unique(neighbor_indices, axis=0)\n",
    "        neighbor_indices = neighbor_indices[\n",
    "            (neighbor_indices[:, 0] >= 0) &\n",
    "            (neighbor_indices[:, 0] < self.grid.shape[0]) &\n",
    "            (neighbor_indices[:, 1] >= 0) &\n",
    "            (neighbor_indices[:, 1] < self.grid.shape[1])\n",
    "        ]\n",
    "        neighbor_counts = np.zeros(self.grid.shape, dtype=np.int8)\n",
    "        for i in range(neighbor_indices.shape[0]):\n",
    "            neighbor_counts[neighbor_indices[i, 0], neighbor_indices[i, 1]] = \\\n",
    "                self.sense_quarum(neighbor_indices[i, 0], neighbor_indices[i, 1])\n",
    "        return np.where(\n",
    "            (neighbor_counts == 3) |\n",
    "            (neighbor_counts == 2) & (self.grid == 1),\n",
    "            1, 0\n",
    "        )\n",
    "    \n",
    "    def run(self, n: int) -> None:\n",
    "        for i in range(n):\n",
    "            self.grid = self.apply_rules()\n",
    "\n"
   ]
  },
  {
   "cell_type": "code",
   "execution_count": 43,
   "metadata": {},
   "outputs": [
    {
     "ename": "IndexError",
     "evalue": "index 1 is out of bounds for axis 1 with size 1",
     "output_type": "error",
     "traceback": [
      "\u001b[1;31m---------------------------------------------------------------------------\u001b[0m",
      "\u001b[1;31mIndexError\u001b[0m                                Traceback (most recent call last)",
      "Cell \u001b[1;32mIn[43], line 3\u001b[0m\n\u001b[0;32m      1\u001b[0m biome \u001b[39m=\u001b[39m Biome(biome)\n\u001b[0;32m      2\u001b[0m \u001b[39m# apply rules to alive cells and their neighbors\u001b[39;00m\n\u001b[1;32m----> 3\u001b[0m biome\u001b[39m.\u001b[39;49mrun(\u001b[39m100\u001b[39;49m)\n",
      "Cell \u001b[1;32mIn[37], line 71\u001b[0m, in \u001b[0;36mBiome.run\u001b[1;34m(self, n)\u001b[0m\n\u001b[0;32m     69\u001b[0m \u001b[39mdef\u001b[39;00m \u001b[39mrun\u001b[39m(\u001b[39mself\u001b[39m, n: \u001b[39mint\u001b[39m) \u001b[39m-\u001b[39m\u001b[39m>\u001b[39m \u001b[39mNone\u001b[39;00m:\n\u001b[0;32m     70\u001b[0m     \u001b[39mfor\u001b[39;00m i \u001b[39min\u001b[39;00m \u001b[39mrange\u001b[39m(n):\n\u001b[1;32m---> 71\u001b[0m         \u001b[39mself\u001b[39m\u001b[39m.\u001b[39mgrid \u001b[39m=\u001b[39m \u001b[39mself\u001b[39;49m\u001b[39m.\u001b[39;49mapply_rules()\n",
      "Cell \u001b[1;32mIn[37], line 50\u001b[0m, in \u001b[0;36mBiome.apply_rules\u001b[1;34m(self)\u001b[0m\n\u001b[0;32m     49\u001b[0m \u001b[39mdef\u001b[39;00m \u001b[39mapply_rules\u001b[39m(\u001b[39mself\u001b[39m) \u001b[39m-\u001b[39m\u001b[39m>\u001b[39m npt\u001b[39m.\u001b[39mNDArray[np\u001b[39m.\u001b[39mint8]:\n\u001b[1;32m---> 50\u001b[0m     neighbor_indices \u001b[39m=\u001b[39m \u001b[39mself\u001b[39;49m\u001b[39m.\u001b[39;49mget_neighbor_indices()\n\u001b[0;32m     51\u001b[0m     neighbor_indices \u001b[39m=\u001b[39m neighbor_indices\u001b[39m.\u001b[39mreshape(\u001b[39m-\u001b[39m\u001b[39m1\u001b[39m, \u001b[39m2\u001b[39m)\n\u001b[0;32m     52\u001b[0m     neighbor_indices \u001b[39m=\u001b[39m np\u001b[39m.\u001b[39munique(neighbor_indices, axis\u001b[39m=\u001b[39m\u001b[39m0\u001b[39m)\n",
      "Cell \u001b[1;32mIn[37], line 37\u001b[0m, in \u001b[0;36mBiome.get_neighbor_indices\u001b[1;34m(self)\u001b[0m\n\u001b[0;32m     33\u001b[0m \u001b[39mdef\u001b[39;00m \u001b[39mget_neighbor_indices\u001b[39m(\u001b[39mself\u001b[39m) \u001b[39m-\u001b[39m\u001b[39m>\u001b[39m npt\u001b[39m.\u001b[39mNDArray[np\u001b[39m.\u001b[39mint8]:\n\u001b[0;32m     34\u001b[0m     alive_cells \u001b[39m=\u001b[39m \u001b[39mself\u001b[39m\u001b[39m.\u001b[39mget_alive_cells()\n\u001b[0;32m     35\u001b[0m     neighbor_indices \u001b[39m=\u001b[39m np\u001b[39m.\u001b[39marray(\n\u001b[0;32m     36\u001b[0m         [\n\u001b[1;32m---> 37\u001b[0m         [alive_cells[:, \u001b[39m0\u001b[39m]\u001b[39m-\u001b[39m\u001b[39m1\u001b[39m, alive_cells[:, \u001b[39m1\u001b[39;49m]\u001b[39m-\u001b[39m\u001b[39m1\u001b[39m],\n\u001b[0;32m     38\u001b[0m         [alive_cells[:, \u001b[39m0\u001b[39m], alive_cells[:, \u001b[39m1\u001b[39m]\u001b[39m-\u001b[39m\u001b[39m1\u001b[39m],\n\u001b[0;32m     39\u001b[0m         [alive_cells[:, \u001b[39m0\u001b[39m]\u001b[39m+\u001b[39m\u001b[39m1\u001b[39m, alive_cells[:, \u001b[39m1\u001b[39m]\u001b[39m-\u001b[39m\u001b[39m1\u001b[39m],\n\u001b[0;32m     40\u001b[0m         [alive_cells[:, \u001b[39m0\u001b[39m]\u001b[39m-\u001b[39m\u001b[39m1\u001b[39m, alive_cells[:, \u001b[39m1\u001b[39m]],\n\u001b[0;32m     41\u001b[0m         [alive_cells[:, \u001b[39m0\u001b[39m]\u001b[39m+\u001b[39m\u001b[39m1\u001b[39m, alive_cells[:, \u001b[39m1\u001b[39m]],\n\u001b[0;32m     42\u001b[0m         [alive_cells[:, \u001b[39m0\u001b[39m]\u001b[39m-\u001b[39m\u001b[39m1\u001b[39m, alive_cells[:, \u001b[39m1\u001b[39m]\u001b[39m+\u001b[39m\u001b[39m1\u001b[39m],\n\u001b[0;32m     43\u001b[0m         [alive_cells[:, \u001b[39m0\u001b[39m], alive_cells[:, \u001b[39m1\u001b[39m]\u001b[39m+\u001b[39m\u001b[39m1\u001b[39m],\n\u001b[0;32m     44\u001b[0m         [alive_cells[:, \u001b[39m0\u001b[39m]\u001b[39m+\u001b[39m\u001b[39m1\u001b[39m, alive_cells[:, \u001b[39m1\u001b[39m]\u001b[39m+\u001b[39m\u001b[39m1\u001b[39m]\n\u001b[0;32m     45\u001b[0m         ]\n\u001b[0;32m     46\u001b[0m     )\u001b[39m.\u001b[39mT\n\u001b[0;32m     47\u001b[0m     \u001b[39mreturn\u001b[39;00m neighbor_indices\n",
      "\u001b[1;31mIndexError\u001b[0m: index 1 is out of bounds for axis 1 with size 1"
     ]
    }
   ],
   "source": [
    "biome = Biome(biome)\n",
    "\n"
   ]
  },
  {
   "cell_type": "code",
   "execution_count": null,
   "metadata": {},
   "outputs": [],
   "source": []
  }
 ],
 "metadata": {
  "kernelspec": {
   "display_name": "base",
   "language": "python",
   "name": "python3"
  },
  "language_info": {
   "codemirror_mode": {
    "name": "ipython",
    "version": 3
   },
   "file_extension": ".py",
   "mimetype": "text/x-python",
   "name": "python",
   "nbconvert_exporter": "python",
   "pygments_lexer": "ipython3",
   "version": "3.10.8"
  },
  "orig_nbformat": 4,
  "vscode": {
   "interpreter": {
    "hash": "cd23cac2bafd8df99b725e5c828a2ba9396d5a3d74e893c278d391f6e19827a0"
   }
  }
 },
 "nbformat": 4,
 "nbformat_minor": 2
}
