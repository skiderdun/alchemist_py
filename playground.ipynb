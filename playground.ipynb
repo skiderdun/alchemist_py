{
 "cells": [
  {
   "cell_type": "code",
   "execution_count": 17,
   "metadata": {},
   "outputs": [],
   "source": [
    "import sys\n",
    "import numpy as np\n",
    "np.set_printoptions(threshold=sys.maxsize)\n",
    "import numpy.typing as npt\n",
    "import cProfile\n",
    "\n",
    "import warnings\n",
    "warnings.filterwarnings(\"ignore\", category=DeprecationWarning) \n",
    "\n"
   ]
  },
  {
   "cell_type": "code",
   "execution_count": 6,
   "metadata": {},
   "outputs": [],
   "source": [
    "\n",
    "class Biome():\n",
    "    def __init__(self, grid: npt.NDArray[np.int8]):\n",
    "        self.grid = grid\n",
    "        self.val_grid = np.zeros(grid.shape, dtype=np.int8)\n",
    "\n",
    "    def __repr__(self):\n",
    "        return str(self.grid)\n",
    "    \n",
    "    def run(self, generations: int):\n",
    "        for i in range(generations):\n",
    "            self.grid = self._update(self.grid)\n",
    "        \n",
    "    def _update(self, grid: npt.NDArray[np.int8]) -> npt.NDArray[np.int8]:\n",
    "        \n",
    "        # get indices of all non-zero elements\n",
    "        indices = np.argwhere(grid == 1)\n",
    "   \n",
    "        # get the surrounding indices\n",
    "        surrounding_indices = np.array([[x + i, y + j] for x, y in indices for i in range(-1, 2) for j in range(-1, 2) if not (i == 0 and j == 0) ])\n",
    "      \n",
    "        # remove the indices that are out of bounds\n",
    "        surrounding_indices = surrounding_indices[(surrounding_indices[:, 0] >= 0) \n",
    "                                                & (surrounding_indices[:, 0] < grid.shape[0])\n",
    "                                                & (surrounding_indices[:, 1] >= 0) \n",
    "                                                & (surrounding_indices[:, 1] < grid.shape[1])]\n",
    "\n",
    "        # get the unique surrounding indices\n",
    "        each_indices = np.unique(surrounding_indices, axis=0)\n",
    "\n",
    "        # set the surrounding indices to 1 if they have 3 neighbours\n",
    "        grid[indices[:, 0], indices[:, 1]] = [1 if np.sum(np.all(surrounding_indices == i, axis=1)) == 2 else 0 for i in np.unique(indices, axis=0)]\n",
    "        grid[each_indices[:, 0], each_indices[:, 1]] = [grid[i[0], i[1]] if np.sum(np.all(surrounding_indices == i, axis=1)) != 3 else 1 for i in each_indices  ]\n",
    "       \n",
    "        return grid\n",
    "    \n",
    "    def values(self, grid: npt.NDArray[np.int8]) -> npt.NDArray[np.int8]:\n",
    "        # get indices of all non-zero elements\n",
    "        indices = np.argwhere(grid == 1)\n",
    "   \n",
    "        # get the surrounding indices\n",
    "        surrounding_indices = np.array([[x + i, y + j] for x, y in indices for i in range(-1, 2) for j in range(-1, 2) if not (i == 0 and j == 0) ])\n",
    "      \n",
    "        # remove the indices that are out of bounds\n",
    "        surrounding_indices = surrounding_indices[(surrounding_indices[:, 0] >= 0) \n",
    "                                                & (surrounding_indices[:, 0] < grid.shape[0])\n",
    "                                                & (surrounding_indices[:, 1] >= 0) \n",
    "                                                & (surrounding_indices[:, 1] < grid.shape[1])]\n",
    "        \n",
    "        val_grid = grid.copy()\n",
    "\n",
    "        for i in np.unique(surrounding_indices, axis=0):\n",
    "            val_grid[i[0], i[1]] = np.sum(np.all(surrounding_indices == i, axis=1))\n",
    "        \n",
    "        return val_grid\n",
    "\n"
   ]
  },
  {
   "cell_type": "code",
   "execution_count": 25,
   "metadata": {},
   "outputs": [
    {
     "name": "stdout",
     "output_type": "stream",
     "text": [
      "[[1 1 0 0]\n",
      " [1 1 0 1]\n",
      " [0 1 0 0]\n",
      " [0 0 1 0]]\n"
     ]
    },
    {
     "data": {
      "text/plain": [
       "array([1, 1, 0, 1, 0])"
      ]
     },
     "execution_count": 25,
     "metadata": {},
     "output_type": "execute_result"
    }
   ],
   "source": [
    "grid = [12,\n",
    "        13,\n",
    "        4,\n",
    "        2]\n",
    "\n",
    "def num_to_binary(num: int, length: int) -> npt.NDArray[np.int8]:\n",
    "    return np.array([int(i) for i in np.binary_repr(num, length)])\n",
    "\n",
    "def binary_to_num(binary: npt.NDArray[np.int8]) -> int:\n",
    "    return int(\"\".join([str(i) for i in binary]), 2)\n",
    "\n",
    "def grid_to_binary(grid: list) -> npt.NDArray[np.int8]:\n",
    "    return np.array([num_to_binary(i, 4) for i in grid])\n",
    "\n",
    "def binary_to_grid(binary: npt.NDArray[np.int8]) -> list:\n",
    "    return [binary_to_num(i) for i in binary]\n",
    "\n",
    "\n",
    "\n",
    "\n",
    "print(grid_to_binary(grid))\n",
    "num_to_binary((13 << 1), 4)\n"
   ]
  },
  {
   "cell_type": "code",
   "execution_count": 27,
   "metadata": {},
   "outputs": [],
   "source": [
    "import bitarray as ba\n"
   ]
  },
  {
   "cell_type": "code",
   "execution_count": null,
   "metadata": {},
   "outputs": [],
   "source": []
  }
 ],
 "metadata": {
  "kernelspec": {
   "display_name": "base",
   "language": "python",
   "name": "python3"
  },
  "language_info": {
   "codemirror_mode": {
    "name": "ipython",
    "version": 3
   },
   "file_extension": ".py",
   "mimetype": "text/x-python",
   "name": "python",
   "nbconvert_exporter": "python",
   "pygments_lexer": "ipython3",
   "version": "3.10.8"
  },
  "orig_nbformat": 4,
  "vscode": {
   "interpreter": {
    "hash": "8565891b0d3dc5f92c3ac1d0a994ae7f0aa4b3d294520402a1e39aee861ba01a"
   }
  }
 },
 "nbformat": 4,
 "nbformat_minor": 2
}
