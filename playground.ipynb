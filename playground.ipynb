{
 "cells": [
  {
   "cell_type": "code",
   "execution_count": 43,
   "metadata": {},
   "outputs": [
    {
     "name": "stdout",
     "output_type": "stream",
     "text": [
      "         19312 function calls in 0.069 seconds\n",
      "\n",
      "   Ordered by: standard name\n",
      "\n",
      "   ncalls  tottime  percall  cumtime  percall filename:lineno(function)\n",
      "     9604    0.032    0.000    0.062    0.000 2405388125.py:22(check_neighbors)\n",
      "        1    0.000    0.000    0.069    0.069 2405388125.py:28(apply_rules)\n",
      "        1    0.000    0.000    0.069    0.069 2405388125.py:30(<listcomp>)\n",
      "       98    0.006    0.000    0.068    0.001 2405388125.py:31(<listcomp>)\n",
      "        1    0.000    0.000    0.069    0.069 <string>:1(<module>)\n",
      "        1    0.000    0.000    0.069    0.069 {built-in method builtins.exec}\n",
      "     9604    0.030    0.000    0.030    0.000 {built-in method builtins.sum}\n",
      "        1    0.001    0.001    0.001    0.001 {built-in method numpy.array}\n",
      "        1    0.000    0.000    0.000    0.000 {method 'disable' of '_lsprof.Profiler' objects}\n",
      "\n",
      "\n"
     ]
    }
   ],
   "source": [
    "import numpy as np\n",
    "import numpy.typing as npt\n",
    "import cProfile\n",
    "\n",
    "# create a seed\n",
    "seed = np.array([[0, 0, 0, 0, 0, 0, 0, 0, 0, 0],\n",
    "                [0, 0, 0, 0, 0, 0, 0, 0, 0, 0],\n",
    "                [0, 0, 0, 0, 0, 0, 0, 0, 0, 0],\n",
    "                [0, 0, 0, 1, 1, 1, 0, 0, 0, 0],\n",
    "                [0, 0, 0, 0, 0, 1, 0, 0, 0, 0],\n",
    "                [0, 0, 0, 0, 1, 0, 0, 0, 0, 0],\n",
    "                [0, 0, 0, 0, 0, 0, 0, 0, 0, 0],\n",
    "                [0, 0, 0, 0, 0, 0, 0, 0, 0, 0],\n",
    "                [0, 0, 0, 0, 0, 0, 0, 0, 0, 0],\n",
    "                [0, 0, 0, 0, 0, 0, 0, 0, 0, 0]], dtype=np.int8)\n",
    "\n",
    "# create a biome\n",
    "biome = np.zeros((100, 100), dtype=np.int8)\n",
    "biome[0:10, 0:10] = seed\n",
    "\n",
    "# create a function to check the neighbors of a cell via list comprehension\n",
    "def check_neighbors(grid: npt.NDArray[np.int8], x: int, y: int) -> int:\n",
    "    return sum([grid[x-1, y-1], grid[x, y-1], grid[x+1, y-1],\n",
    "                grid[x-1, y], grid[x+1, y],\n",
    "                grid[x-1, y+1], grid[x, y+1], grid[x+1, y+1]])\n",
    "\n",
    "# create function to apply the rules via list comprehension\n",
    "def apply_rules(grid: npt.NDArray[np.int8]) -> npt.NDArray[np.int8]:\n",
    "    return np.array(\n",
    "        [\n",
    "        [\n",
    "        1 if check_neighbors(grid, x, y)\n",
    "        in [2, 3] else 0\n",
    "        for x in range(1, grid.shape[0]-1)\n",
    "        ]\n",
    "        for y in range(1, grid.shape[1]-1)\n",
    "        ]\n",
    "    )\n",
    "\n",
    "\n",
    "# check the performance of the function\n",
    "cProfile.run('apply_rules(biome)')\n",
    "\n"
   ]
  },
  {
   "cell_type": "code",
   "execution_count": 23,
   "metadata": {},
   "outputs": [
    {
     "name": "stdout",
     "output_type": "stream",
     "text": [
      "         20004 function calls in 0.412 seconds\n",
      "\n",
      "   Ordered by: standard name\n",
      "\n",
      "   ncalls  tottime  percall  cumtime  percall filename:lineno(function)\n",
      "    10000    0.061    0.000    0.061    0.000 3834849406.py:27(alt_rules)\n",
      "    10000    0.340    0.000    0.340    0.000 3834849406.py:39(neighbors)\n",
      "        1    0.012    0.012    0.412    0.412 3834849406.py:52(run_def_rules)\n",
      "        1    0.000    0.000    0.412    0.412 <string>:1(<module>)\n",
      "        1    0.000    0.000    0.412    0.412 {built-in method builtins.exec}\n",
      "        1    0.000    0.000    0.000    0.000 {method 'disable' of '_lsprof.Profiler' objects}\n",
      "\n",
      "\n"
     ]
    },
    {
     "ename": "AttributeError",
     "evalue": "'NoneType' object has no attribute 'totaltime'",
     "output_type": "error",
     "traceback": [
      "\u001b[1;31m---------------------------------------------------------------------------\u001b[0m",
      "\u001b[1;31mAttributeError\u001b[0m                            Traceback (most recent call last)",
      "Cell \u001b[1;32mIn[23], line 1\u001b[0m\n\u001b[1;32m----> 1\u001b[0m times \u001b[39m=\u001b[39m np\u001b[39m.\u001b[39msum([cProfile\u001b[39m.\u001b[39;49mrun(\u001b[39m'\u001b[39;49m\u001b[39mrun_def_rules()\u001b[39;49m\u001b[39m'\u001b[39;49m)\u001b[39m.\u001b[39;49mtotaltime, cProfile\u001b[39m.\u001b[39mrun(\u001b[39m'\u001b[39m\u001b[39mrun_dict_rules()\u001b[39m\u001b[39m'\u001b[39m)\u001b[39m.\u001b[39mtotaltime])\n",
      "\u001b[1;31mAttributeError\u001b[0m: 'NoneType' object has no attribute 'totaltime'"
     ]
    }
   ],
   "source": [
    "# 0.363 seconds via absraction\n"
   ]
  },
  {
   "cell_type": "code",
   "execution_count": null,
   "metadata": {},
   "outputs": [],
   "source": []
  }
 ],
 "metadata": {
  "kernelspec": {
   "display_name": "base",
   "language": "python",
   "name": "python3"
  },
  "language_info": {
   "codemirror_mode": {
    "name": "ipython",
    "version": 3
   },
   "file_extension": ".py",
   "mimetype": "text/x-python",
   "name": "python",
   "nbconvert_exporter": "python",
   "pygments_lexer": "ipython3",
   "version": "3.10.8"
  },
  "orig_nbformat": 4,
  "vscode": {
   "interpreter": {
    "hash": "8565891b0d3dc5f92c3ac1d0a994ae7f0aa4b3d294520402a1e39aee861ba01a"
   }
  }
 },
 "nbformat": 4,
 "nbformat_minor": 2
}
