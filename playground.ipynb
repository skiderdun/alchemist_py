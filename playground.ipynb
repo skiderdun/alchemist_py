{
 "cells": [
  {
   "cell_type": "code",
   "execution_count": 54,
   "metadata": {},
   "outputs": [],
   "source": [
    "import numpy as np\n",
    "import numpy.typing as npt\n",
    "import cProfile\n",
    "\n",
    "import warnings\n",
    "warnings.filterwarnings(\"ignore\", category=DeprecationWarning) \n",
    "\n",
    "\n",
    "# create a seed\n",
    "seed = np.array([[0, 0, 0, 0, 0, 0, 0, 0, 0, 0],\n",
    "                [0, 0, 0, 0, 0, 0, 0, 0, 0, 0],\n",
    "                [0, 0, 0, 0, 0, 0, 0, 0, 0, 0],\n",
    "                [0, 0, 0, 1, 1, 1, 0, 0, 0, 0],\n",
    "                [0, 0, 0, 0, 0, 1, 0, 0, 0, 0],\n",
    "                [0, 0, 0, 0, 1, 0, 0, 0, 0, 0],\n",
    "                [0, 0, 0, 0, 0, 0, 0, 0, 0, 0],\n",
    "                [0, 0, 0, 0, 0, 0, 0, 0, 0, 0],\n",
    "                [0, 0, 0, 0, 0, 0, 0, 0, 0, 0],\n",
    "                [0, 0, 0, 0, 0, 0, 0, 0, 0, 0]], dtype=np.int8)\n",
    "\n",
    "# create a biome\n",
    "biome = np.zeros((100, 100), dtype=np.int8)\n",
    "biome[0:10, 0:10] = seed\n",
    "\n",
    "\n"
   ]
  },
  {
   "cell_type": "code",
   "execution_count": 58,
   "metadata": {},
   "outputs": [
    {
     "ename": "SyntaxError",
     "evalue": "expected 'else' after 'if' expression (3531150994.py, line 11)",
     "output_type": "error",
     "traceback": [
      "\u001b[1;36m  Cell \u001b[1;32mIn[58], line 11\u001b[1;36m\u001b[0m\n\u001b[1;33m    surrounding_indices = surrounding_indices[(surrounding_indices[:, 0] >= 0)\u001b[0m\n\u001b[1;37m                                              ^\u001b[0m\n\u001b[1;31mSyntaxError\u001b[0m\u001b[1;31m:\u001b[0m expected 'else' after 'if' expression\n"
     ]
    }
   ],
   "source": [
    "# get indices of all non-zero elements\n",
    "indices = np.argwhere(biome == 1)\n",
    "\n",
    "# get the surrounding indices\n",
    "surrounding_indices = np.array([indices + np.array([i, j]) for i in range(-1, 2) for j in range(-1, 2)])\n",
    "\n",
    "# colapse the array\n",
    "surrounding_indices = surrounding_indices.reshape(-1, 2)\n",
    "\n",
    "# remove the indices that are out of bounds\n",
    "surrounding_indices = surrounding_indices[(surrounding_indices[:, 0] >= 0) \n",
    "                                          & (type(biome) == npt.NDArray[np.int8])\n",
    "                                          & (surrounding_indices[:, 0] < biome.shape[0]) \n",
    "                                          & (surrounding_indices[:, 1] >= 0) \n",
    "                                          & (surrounding_indices[:, 1] < biome.shape[1])]\n",
    "\n",
    "# remove the indices that are the same as the original indices\n",
    "surrounding_indices = surrounding_indices[(surrounding_indices[:, 0] != indices[:, 0]) | (surrounding_indices[:, 1] != indices[:, 1])]\n",
    "\n",
    "# for each surrounding index that occures three times, set the biome to 1 \n",
    "for i in np.unique(surrounding_indices, axis=0):\n",
    "    if np.sum(np.all(surrounding_indices == i, axis=1)) == 3:\n",
    "        biome[i[0], i[1]] = 1\n",
    "\n",
    "# set indices that are not surrounded by 2 or 3 cells to 0\n",
    "for i in np.unique(indices, axis=0):\n",
    "    if np.sum(np.all(surrounding_indices == i, axis=1)) not in [2, 3]:\n",
    "        biome[i[0], i[1]] = 0\n",
    "\n"
   ]
  },
  {
   "cell_type": "code",
   "execution_count": 35,
   "metadata": {},
   "outputs": [
    {
     "data": {
      "text/plain": [
       "array([[3, 3],\n",
       "       [3, 4],\n",
       "       [3, 5],\n",
       "       [4, 5],\n",
       "       [5, 4]], dtype=int64)"
      ]
     },
     "execution_count": 35,
     "metadata": {},
     "output_type": "execute_result"
    }
   ],
   "source": [
    "indices"
   ]
  },
  {
   "cell_type": "code",
   "execution_count": null,
   "metadata": {},
   "outputs": [],
   "source": []
  }
 ],
 "metadata": {
  "kernelspec": {
   "display_name": "base",
   "language": "python",
   "name": "python3"
  },
  "language_info": {
   "codemirror_mode": {
    "name": "ipython",
    "version": 3
   },
   "file_extension": ".py",
   "mimetype": "text/x-python",
   "name": "python",
   "nbconvert_exporter": "python",
   "pygments_lexer": "ipython3",
   "version": "3.10.8"
  },
  "orig_nbformat": 4,
  "vscode": {
   "interpreter": {
    "hash": "cd23cac2bafd8df99b725e5c828a2ba9396d5a3d74e893c278d391f6e19827a0"
   }
  }
 },
 "nbformat": 4,
 "nbformat_minor": 2
}
