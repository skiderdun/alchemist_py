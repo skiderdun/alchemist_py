{
 "cells": [
  {
   "cell_type": "code",
   "execution_count": 1,
   "metadata": {},
   "outputs": [],
   "source": [
    "import sys\n",
    "import numpy as np\n",
    "np.set_printoptions(threshold=sys.maxsize)\n",
    "import numpy.typing as npt\n",
    "import cProfile\n",
    "\n",
    "import warnings\n",
    "warnings.filterwarnings(\"ignore\", category=DeprecationWarning) \n",
    "\n"
   ]
  },
  {
   "cell_type": "code",
   "execution_count": 6,
   "metadata": {},
   "outputs": [],
   "source": [
    "class Biome():\n",
    "    def __init__(self, grid: npt.NDArray[np.int8]):\n",
    "        self.grid = grid\n",
    "        self.val_grid = np.zeros(grid.shape, dtype=np.int8)\n",
    "\n",
    "    def __repr__(self):\n",
    "        return str(self.grid)\n",
    "    \n",
    "    def run(self, generations: int):\n",
    "        for i in range(generations):\n",
    "            self.grid = self._update(self.grid)\n",
    "        \n",
    "    def _update(self, grid: npt.NDArray[np.int8]) -> npt.NDArray[np.int8]:\n",
    "        \n",
    "        if np.sum(grid) == 0:\n",
    "            return grid\n",
    "\n",
    "        # get indices of all non-zero elements\n",
    "        indices = np.argwhere(grid == 1)\n",
    "   \n",
    "        # get the surrounding indices\n",
    "        surrounding_indices = np.array([[x + i, y + j] for x, y in indices for i in range(-1, 2) for j in range(-1, 2) if not (i == 0 and j == 0) ])\n",
    "      \n",
    "        # remove the indices that are out of bounds\n",
    "        surrounding_indices = surrounding_indices[(surrounding_indices[:, 0] >= 0) \n",
    "                                                & (surrounding_indices[:, 0] < grid.shape[0])\n",
    "                                                & (surrounding_indices[:, 1] >= 0) \n",
    "                                                & (surrounding_indices[:, 1] < grid.shape[1])]\n",
    "\n",
    "        # get the unique surrounding indices\n",
    "        each_indices = np.unique(surrounding_indices, axis=0)\n",
    "\n",
    "        # set the surrounding indices to 1 if they have 3 neighbours\n",
    "        grid[each_indices[:, 0], each_indices[:, 1]] = [1 if np.sum(np.all(surrounding_indices == i, axis=1)) == 3 else 0 for i in each_indices]\n",
    "        grid[indices[:, 0], indices[:, 1]] = [1 if np.sum(np.all(surrounding_indices == i, axis=1)) == 2 else 0 for i in np.unique(indices, axis=0)]\n",
    "        \n",
    "        return grid\n",
    "    \n",
    "    def values(self, grid: npt.NDArray[np.int8]) -> npt.NDArray[np.int8]:\n",
    "        # get indices of all non-zero elements\n",
    "        indices = np.argwhere(grid == 1)\n",
    "   \n",
    "        # get the surrounding indices\n",
    "        surrounding_indices = np.array([[x + i, y + j] for x, y in indices for i in range(-1, 2) for j in range(-1, 2) if not (i == 0 and j == 0) ])\n",
    "      \n",
    "        # remove the indices that are out of bounds\n",
    "        surrounding_indices = surrounding_indices[(surrounding_indices[:, 0] >= 0) \n",
    "                                                & (surrounding_indices[:, 0] < grid.shape[0])\n",
    "                                                & (surrounding_indices[:, 1] >= 0) \n",
    "                                                & (surrounding_indices[:, 1] < grid.shape[1])]\n",
    "        \n",
    "        val_grid = grid.copy()\n",
    "\n",
    "        for i in np.unique(surrounding_indices, axis=0):\n",
    "            val_grid[i[0], i[1]] = np.sum(np.all(surrounding_indices == i, axis=1))\n",
    "        \n",
    "        return val_grid"
   ]
  },
  {
   "cell_type": "code",
   "execution_count": 13,
   "metadata": {},
   "outputs": [
    {
     "name": "stdout",
     "output_type": "stream",
     "text": [
      "         100004 function calls in 8.447 seconds\n",
      "\n",
      "   Ordered by: standard name\n",
      "\n",
      "   ncalls  tottime  percall  cumtime  percall filename:lineno(function)\n",
      "    10000    0.010    0.000    8.436    0.001 2676004308.py:13(_update)\n",
      "        1    0.011    0.011    8.447    8.447 2676004308.py:9(run)\n",
      "    10000    0.008    0.000    8.427    0.001 <__array_function__ internals>:177(sum)\n",
      "        1    0.000    0.000    8.447    8.447 <string>:1(<module>)\n",
      "    10000    0.001    0.000    0.001    0.000 fromnumeric.py:2157(_sum_dispatcher)\n",
      "    10000    0.017    0.000    8.410    0.001 fromnumeric.py:2162(sum)\n",
      "    10000    0.020    0.000    8.390    0.001 fromnumeric.py:69(_wrapreduction)\n",
      "    10000    0.006    0.000    0.006    0.000 fromnumeric.py:70(<dictcomp>)\n",
      "        1    0.000    0.000    8.447    8.447 {built-in method builtins.exec}\n",
      "    10000    0.003    0.000    0.003    0.000 {built-in method builtins.isinstance}\n",
      "    10000    0.007    0.000    8.417    0.001 {built-in method numpy.core._multiarray_umath.implement_array_function}\n",
      "        1    0.000    0.000    0.000    0.000 {method 'disable' of '_lsprof.Profiler' objects}\n",
      "    10000    0.002    0.000    0.002    0.000 {method 'items' of 'dict' objects}\n",
      "    10000    8.363    0.001    8.363    0.001 {method 'reduce' of 'numpy.ufunc' objects}\n",
      "\n",
      "\n"
     ]
    }
   ],
   "source": [
    "seed = np.random.randint(0, 1, size=(50, 50), dtype=np.int8)\n",
    "\n",
    "grid = np.zeros((1000, 1000), dtype=np.int8)\n",
    "grid[500:550, 500:550] = seed\n",
    "\n",
    "biome = Biome(grid)\n",
    "cProfile.run('biome.run(10000)')"
   ]
  },
  {
   "cell_type": "code",
   "execution_count": null,
   "metadata": {},
   "outputs": [],
   "source": []
  }
 ],
 "metadata": {
  "kernelspec": {
   "display_name": "base",
   "language": "python",
   "name": "python3"
  },
  "language_info": {
   "codemirror_mode": {
    "name": "ipython",
    "version": 3
   },
   "file_extension": ".py",
   "mimetype": "text/x-python",
   "name": "python",
   "nbconvert_exporter": "python",
   "pygments_lexer": "ipython3",
   "version": "3.10.8"
  },
  "orig_nbformat": 4,
  "vscode": {
   "interpreter": {
    "hash": "cd23cac2bafd8df99b725e5c828a2ba9396d5a3d74e893c278d391f6e19827a0"
   }
  }
 },
 "nbformat": 4,
 "nbformat_minor": 2
}
